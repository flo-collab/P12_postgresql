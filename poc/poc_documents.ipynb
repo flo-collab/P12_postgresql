{
 "cells": [
  {
   "cell_type": "code",
   "execution_count": 2,
   "metadata": {},
   "outputs": [],
   "source": [
    " from tinydb import TinyDB, Query"
   ]
  },
  {
   "cell_type": "code",
   "execution_count": 3,
   "metadata": {},
   "outputs": [],
   "source": [
    "db = TinyDB('my_db.json')"
   ]
  },
  {
   "cell_type": "code",
   "execution_count": 15,
   "metadata": {},
   "outputs": [
    {
     "data": {
      "text/plain": [
       "3"
      ]
     },
     "execution_count": 15,
     "metadata": {},
     "output_type": "execute_result"
    }
   ],
   "source": [
    "db.insert(\n",
    "    {\n",
    "        'type':'poisson',\n",
    "        'nom':'nemo',\n",
    "        'age': 3,\n",
    "        'cuisine':[\n",
    "            {\n",
    "                'recette':'sashimi',\n",
    "                'difficulté':'easy',\n",
    "                'commentaire':'meilleur avec du citron'\n",
    "            },\n",
    "            {\n",
    "                'recette': 'panné',\n",
    "                'difficulté':'hard'\n",
    "            }\n",
    "            ],\n",
    "        'habitat':[\n",
    "            {'loc1':'bocal rond'},\n",
    "            {'loc2':'grand aquarium'}\n",
    "            ]\n",
    "    })\n"
   ]
  },
  {
   "cell_type": "code",
   "execution_count": 10,
   "metadata": {},
   "outputs": [
    {
     "data": {
      "text/plain": [
       "2"
      ]
     },
     "execution_count": 10,
     "metadata": {},
     "output_type": "execute_result"
    }
   ],
   "source": [
    "db.insert(\n",
    "    {\n",
    "        'type':'poisson',\n",
    "        'nom':'requin',\n",
    "        'age': 40,\n",
    "        'cuisine':[\n",
    "            {\n",
    "                'recette':'grillé',\n",
    "                'difficulté':'hard',\n",
    "            },\n",
    "            ],\n",
    "        'habitat':\n",
    "            {'loc1':'hauts fonds'},\n",
    "        'pecheur':[\n",
    "            {\"l'irlandais en colere\":3},\n",
    "            {\"chuck noris\":666}\n",
    "            ]\n",
    "    })"
   ]
  },
  {
   "cell_type": "code",
   "execution_count": 17,
   "metadata": {},
   "outputs": [
    {
     "data": {
      "text/plain": [
       "4"
      ]
     },
     "execution_count": 17,
     "metadata": {},
     "output_type": "execute_result"
    }
   ],
   "source": [
    "db.insert(\n",
    "    {\n",
    "        'type':'crevette',\n",
    "        'nom':'bob',\n",
    "        'age': 3,\n",
    "        'cuisine':[\n",
    "            {\n",
    "                'recette':'sauté',\n",
    "                'difficulté':'easy',\n",
    "                'commentaire':'meilleur avec de la mayo'\n",
    "            },\n",
    "\n",
    "            ],\n",
    "        'habitat':[\n",
    "            {'loc1':'plage'},\n",
    "\n",
    "            ]\n",
    "    })\n"
   ]
  },
  {
   "cell_type": "code",
   "execution_count": 18,
   "metadata": {},
   "outputs": [
    {
     "data": {
      "text/plain": [
       "5"
      ]
     },
     "execution_count": 18,
     "metadata": {},
     "output_type": "execute_result"
    }
   ],
   "source": [
    "db.insert(\n",
    "    {\n",
    "        'type':'palourde',\n",
    "        'nom':'juliette',\n",
    "        'age': 4,\n",
    "        'cuisine':[\n",
    "            {\n",
    "                'recette':'vapeur',\n",
    "                'difficulté':'easy',\n",
    "            \n",
    "            },\n",
    "            \n",
    "            ],\n",
    "        'habitat':[\n",
    "            {'loc1':'plage'},\n",
    "            \n",
    "            ]\n",
    "    })\n"
   ]
  },
  {
   "cell_type": "code",
   "execution_count": 31,
   "metadata": {},
   "outputs": [
    {
     "data": {
      "text/plain": [
       "[{'type': 'poisson',\n",
       "  'nom': 'nemo',\n",
       "  'age': 3,\n",
       "  'cuisine': [{'recette': 'sashimi',\n",
       "    'difficulté': 'easy',\n",
       "    'commentaire': 'meilleur avec du citron'},\n",
       "   {'recette': 'panné', 'difficulté': 'hard'}],\n",
       "  'habitat': [{'loc1': 'bocal rond'}, {'loc2': 'grand aquarium'}]},\n",
       " {'type': 'poisson',\n",
       "  'nom': 'requin',\n",
       "  'age': 40,\n",
       "  'cuisine': [{'recette': 'grillé', 'difficulté': 'hard'}],\n",
       "  'habitat': {'loc1': 'hauts fonds'},\n",
       "  'pecheur': [{\"l'irlandais en colere\": 3}, {'chuck noris': 666}]},\n",
       " {'type': 'poisson',\n",
       "  'nom': 'gros_nemo',\n",
       "  'age': 10,\n",
       "  'cuisine': [{'recette': 'sashimi',\n",
       "    'difficulté': 'easy',\n",
       "    'commentaire': 'meilleur avec du citron'},\n",
       "   {'recette': 'panné', 'difficulté': 'hard'}],\n",
       "  'habitat': [{'loc2': 'grand aquarium'}]},\n",
       " {'type': 'crevette',\n",
       "  'nom': 'bob',\n",
       "  'age': 3,\n",
       "  'cuisine': [{'recette': 'sauté',\n",
       "    'difficulté': 'easy',\n",
       "    'commentaire': 'meilleur avec de la mayo'}],\n",
       "  'habitat': [{'loc1': 'plage'}]},\n",
       " {'type': 'palourde',\n",
       "  'nom': 'juliette',\n",
       "  'age': 6,\n",
       "  'cuisine': [{'recette': 'vapeur', 'difficulté': 'easy'}],\n",
       "  'habitat': [{'loc1': 'plage'}]}]"
      ]
     },
     "execution_count": 31,
     "metadata": {},
     "output_type": "execute_result"
    }
   ],
   "source": [
    "\n",
    "db.search(Query().habitat.exists())"
   ]
  },
  {
   "cell_type": "code",
   "execution_count": null,
   "metadata": {},
   "outputs": [],
   "source": [
    "db.all()"
   ]
  },
  {
   "cell_type": "code",
   "execution_count": 37,
   "metadata": {},
   "outputs": [
    {
     "data": {
      "text/plain": [
       "[{'type': 'poisson',\n",
       "  'nom': 'requin',\n",
       "  'age': 40,\n",
       "  'cuisine': [{'recette': 'grillé', 'difficulté': 'hard'}],\n",
       "  'habitat': {'loc1': 'hauts fonds'},\n",
       "  'pecheur': [{\"l'irlandais en colere\": 3}, {'chuck noris': 666}]},\n",
       " {'type': 'poisson',\n",
       "  'nom': 'gros_nemo',\n",
       "  'age': 10,\n",
       "  'cuisine': [{'recette': 'sashimi',\n",
       "    'difficulté': 'easy',\n",
       "    'commentaire': 'meilleur avec du citron'},\n",
       "   {'recette': 'panné', 'difficulté': 'hard'}],\n",
       "  'habitat': [{'loc2': 'grand aquarium'}]},\n",
       " {'type': 'palourde',\n",
       "  'nom': 'juliette',\n",
       "  'age': 6,\n",
       "  'cuisine': [{'recette': 'vapeur', 'difficulté': 'easy'}],\n",
       "  'habitat': [{'loc1': 'plage'}]}]"
      ]
     },
     "execution_count": 37,
     "metadata": {},
     "output_type": "execute_result"
    }
   ],
   "source": [
    "seastuff = Query()\n",
    "db.search(seastuff.age >= 5 )"
   ]
  },
  {
   "cell_type": "code",
   "execution_count": null,
   "metadata": {},
   "outputs": [],
   "source": [
    "{\n",
    "    \"_id\": \"ObjectId(\\\"58f65e1198f3a12c7090e68c\\\")\",\n",
    "    \"id\": \"WakefieldFamily\",\n",
    "    \"parents\": [\n",
    "      {\n",
    "        \"familyName\": \"Wakefield\",\n",
    "        \"givenName\": \"Robin\"\n",
    "      },\n",
    "      {\n",
    "        \"familyName\": \"Miller\",\n",
    "        \"givenName\": \"Ben\"\n",
    "      }\n",
    "    ],\n",
    "    \"children\": [\n",
    "      {\n",
    "        \"familyName\": \"Merriam\",\n",
    "        \"givenName\": \"Jesse\",\n",
    "        \"gender\": \"female\",\n",
    "        \"grade\": 1,\n",
    "        \"pets\": [\n",
    "          { \"givenName\": \"Goofy\" },\n",
    "          { \"givenName\": \"Shadow\" }\n",
    "        ]\n",
    "      },\n",
    "      {\n",
    "        \"familyName\": \"Miller\",\n",
    "        \"givenName\": \"Lisa\",\n",
    "        \"gender\": \"female\",\n",
    "        \"grade\": 8\n",
    "      }\n",
    "    ],\n",
    "    \"address\": {\n",
    "      \"state\": \"NY\",\n",
    "      \"county\": \"Manhattan\",\n",
    "      \"city\": \"NY\"\n",
    "    },\n",
    "    \"creationDate\": 1431620462,\n",
    "    \"isRegistered\": false\n",
    "}"
   ]
  },
  {
   "cell_type": "code",
   "execution_count": null,
   "metadata": {},
   "outputs": [],
   "source": []
  },
  {
   "cell_type": "code",
   "execution_count": 1,
   "metadata": {},
   "outputs": [],
   "source": [
    "import elara"
   ]
  },
  {
   "cell_type": "code",
   "execution_count": 2,
   "metadata": {},
   "outputs": [],
   "source": [
    "edb = elara.exe(\"new.db\")"
   ]
  },
  {
   "cell_type": "code",
   "execution_count": 4,
   "metadata": {},
   "outputs": [
    {
     "data": {
      "text/plain": [
       "True"
      ]
     },
     "execution_count": 4,
     "metadata": {},
     "output_type": "execute_result"
    }
   ],
   "source": [
    "edb.set(\"client-timestamp\", 'init')"
   ]
  },
  {
   "cell_type": "code",
   "execution_count": 5,
   "metadata": {},
   "outputs": [
    {
     "data": {
      "text/plain": [
       "'init'"
      ]
     },
     "execution_count": 5,
     "metadata": {},
     "output_type": "execute_result"
    }
   ],
   "source": [
    "edb.get(\"client-timestamp\")"
   ]
  },
  {
   "cell_type": "code",
   "execution_count": 9,
   "metadata": {},
   "outputs": [
    {
     "data": {
      "text/plain": [
       "True"
      ]
     },
     "execution_count": 9,
     "metadata": {},
     "output_type": "execute_result"
    }
   ],
   "source": [
    "edb.set('Chriss-12h00',['Sandwich sodebo', 'chouquette', 'chouquette', 'chouquette', 'chouquette','chouquette', 'chouquette', 'chouquette', 'chouquette', 'chouquette', 'chouquette', 'chouquette',\n",
    " 'chouquette', 'chouquette', 'chouquette', 'chouquette', 'chouquette', 'chouquette', 'chouquette','chouquette', 'chouquette', 'chouquette','chouquette', 'chouquette', 'chouquette','chouquette', 'chouquette', 'chouquette',\n",
    " 'chouquette', 'chouquette', 'chouquette', 'chouquette', 'chouquette','chouquette', 'chouquette', 'chouquette', 'chouquette', 'chouquette', 'chouquette', 'chouquette'])"
   ]
  },
  {
   "cell_type": "code",
   "execution_count": null,
   "metadata": {},
   "outputs": [],
   "source": [
    "edb.set('Mme Michu',['dinde','farce','sapin','boulles','girelandes'] )"
   ]
  }
 ],
 "metadata": {
  "interpreter": {
   "hash": "0c6c172c05c0d5ee85af5e4f8675006952544af3503f9c8b22165f27790f5442"
  },
  "kernelspec": {
   "display_name": "Python 3.9.7 64-bit ('venv': venv)",
   "language": "python",
   "name": "python3"
  },
  "language_info": {
   "codemirror_mode": {
    "name": "ipython",
    "version": 3
   },
   "file_extension": ".py",
   "mimetype": "text/x-python",
   "name": "python",
   "nbconvert_exporter": "python",
   "pygments_lexer": "ipython3",
   "version": "3.9.7"
  },
  "orig_nbformat": 4
 },
 "nbformat": 4,
 "nbformat_minor": 2
}
