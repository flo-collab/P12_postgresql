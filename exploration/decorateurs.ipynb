{
 "cells": [
  {
   "cell_type": "code",
   "execution_count": 12,
   "metadata": {},
   "outputs": [],
   "source": [
    "\n",
    "\n",
    "def add_magic(func):\n",
    "    def magic(*args, **kwargs):\n",
    "        print('*****')\n",
    "        func(*args, **kwargs)\n",
    "        print('*******')\n",
    "    return magic\n",
    "\n",
    "def say_lala():\n",
    "    print('lala')\n",
    "\n"
   ]
  },
  {
   "cell_type": "markdown",
   "metadata": {},
   "source": []
  },
  {
   "cell_type": "code",
   "execution_count": 14,
   "metadata": {},
   "outputs": [
    {
     "name": "stdout",
     "output_type": "stream",
     "text": [
      "lala\n"
     ]
    }
   ],
   "source": [
    "say_lala()"
   ]
  },
  {
   "cell_type": "code",
   "execution_count": 15,
   "metadata": {},
   "outputs": [],
   "source": [
    "say_lala = add_magic(say_lala)"
   ]
  },
  {
   "cell_type": "code",
   "execution_count": 16,
   "metadata": {},
   "outputs": [
    {
     "name": "stdout",
     "output_type": "stream",
     "text": [
      "*****\n",
      "lala\n",
      "*******\n"
     ]
    }
   ],
   "source": [
    "say_lala()"
   ]
  },
  {
   "cell_type": "code",
   "execution_count": 17,
   "metadata": {},
   "outputs": [],
   "source": [
    "@add_magic\n",
    "def say_lala(nb):\n",
    "    print('lala'*nb)\n"
   ]
  },
  {
   "cell_type": "code",
   "execution_count": 18,
   "metadata": {},
   "outputs": [
    {
     "name": "stdout",
     "output_type": "stream",
     "text": [
      "*****\n",
      "lalalalalala\n",
      "*******\n"
     ]
    }
   ],
   "source": [
    "say_lala(3)"
   ]
  },
  {
   "cell_type": "code",
   "execution_count": null,
   "metadata": {},
   "outputs": [],
   "source": [
    "def say_lala(nb):\n",
    "    result = ('lala'*nb)\n",
    "    return result"
   ]
  },
  {
   "cell_type": "code",
   "execution_count": null,
   "metadata": {},
   "outputs": [],
   "source": [
    "def like_connect(func):\n",
    "    def inner():\n",
    "        print('--connection---')\n",
    "        func()\n",
    "        print('---disconnecting---')\n",
    "    return inner\n",
    "\n",
    "def make_stuff():\n",
    "    print('I make stuff')\n"
   ]
  },
  {
   "cell_type": "code",
   "execution_count": null,
   "metadata": {},
   "outputs": [
    {
     "name": "stdout",
     "output_type": "stream",
     "text": [
      "--connection---\n",
      "I make stuff\n",
      "---disconnecting---\n"
     ]
    }
   ],
   "source": [
    "# Faire ça : \n",
    "make_stuff = like_connect(make_stuff)\n",
    "\n",
    "make_stuff()"
   ]
  },
  {
   "cell_type": "code",
   "execution_count": null,
   "metadata": {},
   "outputs": [
    {
     "name": "stdout",
     "output_type": "stream",
     "text": [
      "--connection---\n",
      "I make stuff\n",
      "---disconnecting---\n"
     ]
    }
   ],
   "source": [
    "#est identique à faire ça \n",
    "@like_connect\n",
    "def make_stuff():\n",
    "    print('I make stuff')\n",
    "make_stuff()"
   ]
  },
  {
   "cell_type": "code",
   "execution_count": null,
   "metadata": {},
   "outputs": [],
   "source": [
    "# defining a decorator\n",
    "def hello_decorator(func):\n",
    " \n",
    "    # inner1 is a Wrapper function in\n",
    "    # which the argument is called\n",
    "     \n",
    "    # inner function can access the outer local\n",
    "    # functions like in this case \"func\"\n",
    "    def inner1():\n",
    "        print(\"Hello, this is before function execution\")\n",
    " \n",
    "        # calling the actual function now\n",
    "        # inside the wrapper function.\n",
    "        func()\n",
    " \n",
    "        print(\"This is after function execution\")\n",
    "         \n",
    "    return inner1\n",
    " \n",
    " \n",
    "# defining a function, to be called inside wrapper\n",
    "def function_to_be_used():\n",
    "    print(\"This is inside the function !!\")\n",
    " \n"
   ]
  },
  {
   "cell_type": "code",
   "execution_count": null,
   "metadata": {},
   "outputs": [],
   "source": [
    "# passing 'function_to_be_used' inside the\n",
    "# decorator to control its behavior\n",
    "function_to_be_used = hello_decorator(function_to_be_used)"
   ]
  },
  {
   "cell_type": "code",
   "execution_count": null,
   "metadata": {},
   "outputs": [
    {
     "name": "stdout",
     "output_type": "stream",
     "text": [
      "Hello, this is before function execution\n",
      "This is inside the function !!\n",
      "This is after function execution\n"
     ]
    }
   ],
   "source": [
    "# calling the function\n",
    "function_to_be_used()"
   ]
  }
 ],
 "metadata": {
  "interpreter": {
   "hash": "ffb675bf07703f28461ec9aff5c5373c66e814e8c5d8191d6a337708828f3c08"
  },
  "kernelspec": {
   "display_name": "Python 3.8.8 64-bit ('base': conda)",
   "language": "python",
   "name": "python3"
  },
  "language_info": {
   "codemirror_mode": {
    "name": "ipython",
    "version": 3
   },
   "file_extension": ".py",
   "mimetype": "text/x-python",
   "name": "python",
   "nbconvert_exporter": "python",
   "pygments_lexer": "ipython3",
   "version": "3.8.8"
  },
  "orig_nbformat": 4
 },
 "nbformat": 4,
 "nbformat_minor": 2
}
